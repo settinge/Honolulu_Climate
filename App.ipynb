{
 "cells": [
  {
   "cell_type": "code",
   "execution_count": 42,
   "metadata": {},
   "outputs": [],
   "source": [
    "# imports necessary libraries\n",
    "\n",
    "%matplotlib inline\n",
    "from matplotlib import style\n",
    "style.use('fivethirtyeight')\n",
    "import matplotlib.pyplot as plt\n",
    "import numpy as np\n",
    "import pandas as pd\n",
    "import datetime as dt\n",
    "# Python SQL toolkit and Object Relational Mapper\n",
    "import sqlalchemy\n",
    "from sqlalchemy.ext.automap import automap_base\n",
    "from sqlalchemy.orm import Session\n",
    "from sqlalchemy import create_engine, func"
   ]
  },
  {
   "cell_type": "code",
   "execution_count": 43,
   "metadata": {},
   "outputs": [],
   "source": [
    "engine = create_engine(\"sqlite:///C:\\\\Users\\\\samantha.ettinger\\\\GWU-ARL-DATA-PT-12-2019-U-C\\\\02-Homework\\\\10-Advanced-Data-Storage-and-Retrieval\\\\Instructions\\\\Resources\\\\hawaii.sqlite\")"
   ]
  },
  {
   "cell_type": "code",
   "execution_count": 44,
   "metadata": {},
   "outputs": [],
   "source": [
    "# reflect an existing database into a new model\n",
    "Base = automap_base()\n",
    "# reflect the tables\n",
    "Base.prepare(engine, reflect=True)"
   ]
  },
  {
   "cell_type": "code",
   "execution_count": 45,
   "metadata": {},
   "outputs": [
    {
     "data": {
      "text/plain": [
       "['measurement', 'station']"
      ]
     },
     "execution_count": 45,
     "metadata": {},
     "output_type": "execute_result"
    }
   ],
   "source": [
    "# We can view all of the classes that automap found\n",
    "Base.classes.keys()"
   ]
  },
  {
   "cell_type": "code",
   "execution_count": 46,
   "metadata": {},
   "outputs": [],
   "source": [
    "# Save references to each table\n",
    "Measurement = Base.classes.measurement\n",
    "Station = Base.classes.station"
   ]
  },
  {
   "cell_type": "code",
   "execution_count": 47,
   "metadata": {},
   "outputs": [],
   "source": [
    "Meas = Base.classes.measurement"
   ]
  },
  {
   "cell_type": "code",
   "execution_count": 48,
   "metadata": {},
   "outputs": [],
   "source": [
    "# Create our session (link) from Python to the DB\n",
    "session = Session(engine)"
   ]
  },
  {
   "cell_type": "code",
   "execution_count": 49,
   "metadata": {},
   "outputs": [],
   "source": [
    "# Design a query to retrieve the last 12 months of precipitation data and plot the results\n",
    "\n",
    "    \n",
    "# Calculate the date 1 year ago from the last data point in the database\n",
    "\n",
    "# Perform a query to retrieve the data and precipitation scores\n",
    "\n",
    "# Save the query results as a Pandas DataFrame and set the index to the date column\n",
    "\n",
    "# Sort the dataframe by date\n",
    "\n",
    "# Use Pandas Plotting with Matplotlib to plot the data"
   ]
  },
  {
   "cell_type": "code",
   "execution_count": 50,
   "metadata": {},
   "outputs": [
    {
     "name": "stdout",
     "output_type": "stream",
     "text": [
      "('2017-08-23',)\n"
     ]
    }
   ],
   "source": [
    "# Retrieve the last 12 months of precipitation data\n",
    "max_date=session.query(Meas.date).order_by(Meas.date.desc()).first()\n",
    "print(max_date)"
   ]
  },
  {
   "cell_type": "code",
   "execution_count": 51,
   "metadata": {},
   "outputs": [],
   "source": [
    "#calculate the date 1 year go from the last data point in the database\n",
    "year_to_date=dt.date(2017, 8, 23) -pd.Timedelta(days=365)"
   ]
  },
  {
   "cell_type": "code",
   "execution_count": 52,
   "metadata": {},
   "outputs": [
    {
     "name": "stdout",
     "output_type": "stream",
     "text": [
      "2016-08-23\n"
     ]
    }
   ],
   "source": [
    "print(year_to_date)"
   ]
  },
  {
   "cell_type": "code",
   "execution_count": 53,
   "metadata": {},
   "outputs": [],
   "source": [
    "#perform  a query to retrieve the data and precipitation scores\n",
    "data=session.query(Meas.prcp,Meas.date).\\\n",
    "    filter(Meas.date >year_to_date).all()\n",
    " "
   ]
  },
  {
   "cell_type": "code",
   "execution_count": 54,
   "metadata": {},
   "outputs": [],
   "source": [
    "# Save the query results as a Pandas DataFrame and set the index to the date column\n",
    "df = pd.DataFrame(data, columns =['Precipitation', 'Date'])"
   ]
  },
  {
   "cell_type": "code",
   "execution_count": 55,
   "metadata": {},
   "outputs": [],
   "source": [
    "setdf=df.dropna()"
   ]
  },
  {
   "cell_type": "code",
   "execution_count": 56,
   "metadata": {},
   "outputs": [
    {
     "data": {
      "text/html": [
       "<div>\n",
       "<style scoped>\n",
       "    .dataframe tbody tr th:only-of-type {\n",
       "        vertical-align: middle;\n",
       "    }\n",
       "\n",
       "    .dataframe tbody tr th {\n",
       "        vertical-align: top;\n",
       "    }\n",
       "\n",
       "    .dataframe thead th {\n",
       "        text-align: right;\n",
       "    }\n",
       "</style>\n",
       "<table border=\"1\" class=\"dataframe\">\n",
       "  <thead>\n",
       "    <tr style=\"text-align: right;\">\n",
       "      <th></th>\n",
       "      <th>Precipitation</th>\n",
       "    </tr>\n",
       "    <tr>\n",
       "      <th>Date</th>\n",
       "      <th></th>\n",
       "    </tr>\n",
       "  </thead>\n",
       "  <tbody>\n",
       "    <tr>\n",
       "      <th>2016-08-24</th>\n",
       "      <td>0.08</td>\n",
       "    </tr>\n",
       "    <tr>\n",
       "      <th>2016-08-25</th>\n",
       "      <td>0.08</td>\n",
       "    </tr>\n",
       "    <tr>\n",
       "      <th>2016-08-26</th>\n",
       "      <td>0.00</td>\n",
       "    </tr>\n",
       "    <tr>\n",
       "      <th>2016-08-27</th>\n",
       "      <td>0.00</td>\n",
       "    </tr>\n",
       "    <tr>\n",
       "      <th>2016-08-28</th>\n",
       "      <td>0.01</td>\n",
       "    </tr>\n",
       "    <tr>\n",
       "      <th>...</th>\n",
       "      <td>...</td>\n",
       "    </tr>\n",
       "    <tr>\n",
       "      <th>2017-08-17</th>\n",
       "      <td>0.13</td>\n",
       "    </tr>\n",
       "    <tr>\n",
       "      <th>2017-08-19</th>\n",
       "      <td>0.09</td>\n",
       "    </tr>\n",
       "    <tr>\n",
       "      <th>2017-08-21</th>\n",
       "      <td>0.56</td>\n",
       "    </tr>\n",
       "    <tr>\n",
       "      <th>2017-08-22</th>\n",
       "      <td>0.50</td>\n",
       "    </tr>\n",
       "    <tr>\n",
       "      <th>2017-08-23</th>\n",
       "      <td>0.45</td>\n",
       "    </tr>\n",
       "  </tbody>\n",
       "</table>\n",
       "<p>2015 rows × 1 columns</p>\n",
       "</div>"
      ],
      "text/plain": [
       "            Precipitation\n",
       "Date                     \n",
       "2016-08-24           0.08\n",
       "2016-08-25           0.08\n",
       "2016-08-26           0.00\n",
       "2016-08-27           0.00\n",
       "2016-08-28           0.01\n",
       "...                   ...\n",
       "2017-08-17           0.13\n",
       "2017-08-19           0.09\n",
       "2017-08-21           0.56\n",
       "2017-08-22           0.50\n",
       "2017-08-23           0.45\n",
       "\n",
       "[2015 rows x 1 columns]"
      ]
     },
     "execution_count": 56,
     "metadata": {},
     "output_type": "execute_result"
    }
   ],
   "source": [
    "#set index to date\n",
    "setdf.set_index('Date')\n"
   ]
  },
  {
   "cell_type": "code",
   "execution_count": 68,
   "metadata": {},
   "outputs": [
    {
     "data": {
      "image/png": "[encoded data removed]",
      "text/plain": [
       "<Figure size 432x288 with 1 Axes>"
      ]
     },
     "metadata": {},
     "output_type": "display_data"
    }
   ],
   "source": [
    "# Use Pandas Plotting with Matplotlib to plot the data\n",
    "\n",
    "ax =setdf.plot(xticks=setdf.index)\n",
    "ax.set_xticklabels(df[\"Date\"]);\n",
    "ax.locator_params(axis='x', nbins=7)\n",
    "for tick in ax.get_xticklabels():\n",
    "    tick.set_rotation(45)\n"
   ]
  },
  {
   "cell_type": "code",
   "execution_count": 37,
   "metadata": {},
   "outputs": [
    {
     "data": {
      "text/plain": [
       "0       0.08\n",
       "1       0.08\n",
       "2       0.00\n",
       "3       0.00\n",
       "4       0.01\n",
       "        ... \n",
       "2216    0.13\n",
       "2218    0.09\n",
       "2220    0.56\n",
       "2221    0.50\n",
       "2222    0.45\n",
       "Name: Precipitation, Length: 2015, dtype: float64"
      ]
     },
     "execution_count": 37,
     "metadata": {},
     "output_type": "execute_result"
    }
   ],
   "source": [
    "setdf['Precipitation']"
   ]
  },
  {
   "cell_type": "code",
   "execution_count": 21,
   "metadata": {},
   "outputs": [
    {
     "data": {
      "text/html": [
       "<div>\n",
       "<style scoped>\n",
       "    .dataframe tbody tr th:only-of-type {\n",
       "        vertical-align: middle;\n",
       "    }\n",
       "\n",
       "    .dataframe tbody tr th {\n",
       "        vertical-align: top;\n",
       "    }\n",
       "\n",
       "    .dataframe thead th {\n",
       "        text-align: right;\n",
       "    }\n",
       "</style>\n",
       "<table border=\"1\" class=\"dataframe\">\n",
       "  <thead>\n",
       "    <tr style=\"text-align: right;\">\n",
       "      <th></th>\n",
       "      <th>Precipitation</th>\n",
       "    </tr>\n",
       "  </thead>\n",
       "  <tbody>\n",
       "    <tr>\n",
       "      <td>count</td>\n",
       "      <td>2015.000000</td>\n",
       "    </tr>\n",
       "    <tr>\n",
       "      <td>mean</td>\n",
       "      <td>0.176462</td>\n",
       "    </tr>\n",
       "    <tr>\n",
       "      <td>std</td>\n",
       "      <td>0.460288</td>\n",
       "    </tr>\n",
       "    <tr>\n",
       "      <td>min</td>\n",
       "      <td>0.000000</td>\n",
       "    </tr>\n",
       "    <tr>\n",
       "      <td>25%</td>\n",
       "      <td>0.000000</td>\n",
       "    </tr>\n",
       "    <tr>\n",
       "      <td>50%</td>\n",
       "      <td>0.020000</td>\n",
       "    </tr>\n",
       "    <tr>\n",
       "      <td>75%</td>\n",
       "      <td>0.130000</td>\n",
       "    </tr>\n",
       "    <tr>\n",
       "      <td>max</td>\n",
       "      <td>6.700000</td>\n",
       "    </tr>\n",
       "  </tbody>\n",
       "</table>\n",
       "</div>"
      ],
      "text/plain": [
       "       Precipitation\n",
       "count    2015.000000\n",
       "mean        0.176462\n",
       "std         0.460288\n",
       "min         0.000000\n",
       "25%         0.000000\n",
       "50%         0.020000\n",
       "75%         0.130000\n",
       "max         6.700000"
      ]
     },
     "execution_count": 21,
     "metadata": {},
     "output_type": "execute_result"
    }
   ],
   "source": [
    "#print the summary statistics\n",
    "setdf.describe()"
   ]
  },
  {
   "cell_type": "code",
   "execution_count": 22,
   "metadata": {},
   "outputs": [],
   "source": [
    "Stat = Base.classes.station"
   ]
  },
  {
   "cell_type": "code",
   "execution_count": 23,
   "metadata": {},
   "outputs": [
    {
     "data": {
      "text/plain": [
       "{'_sa_instance_state': <sqlalchemy.orm.state.InstanceState at 0x2822225db88>,\n",
       " 'longitude': -157.8168,\n",
       " 'station': 'USC00519397',\n",
       " 'latitude': 21.2716,\n",
       " 'id': 1,\n",
       " 'name': 'WAIKIKI 717.2, HI US',\n",
       " 'elevation': 3.0}"
      ]
     },
     "execution_count": 23,
     "metadata": {},
     "output_type": "execute_result"
    }
   ],
   "source": [
    "first_row = session.query(Stat).first()\n",
    "first_row.__dict__"
   ]
  },
  {
   "cell_type": "code",
   "execution_count": 24,
   "metadata": {},
   "outputs": [
    {
     "data": {
      "text/plain": [
       "9"
      ]
     },
     "execution_count": 24,
     "metadata": {},
     "output_type": "execute_result"
    }
   ],
   "source": [
    "#design a query to calculate the total number of stations\n",
    "st=[]\n",
    "for row in session.query(Stat.station).all():\n",
    "    if row not in st:\n",
    "        st.append(row)\n",
    "len(st)"
   ]
  },
  {
   "cell_type": "code",
   "execution_count": 25,
   "metadata": {},
   "outputs": [
    {
     "data": {
      "text/plain": [
       "{'_sa_instance_state': <sqlalchemy.orm.state.InstanceState at 0x28226b516c8>,\n",
       " 'date': '2010-01-01',\n",
       " 'tobs': 65.0,\n",
       " 'id': 1,\n",
       " 'station': 'USC00519397',\n",
       " 'prcp': 0.08}"
      ]
     },
     "execution_count": 25,
     "metadata": {},
     "output_type": "execute_result"
    }
   ],
   "source": [
    "first_row=session.query(Meas).first()\n",
    "first_row.__dict__"
   ]
  },
  {
   "cell_type": "code",
   "execution_count": 26,
   "metadata": {},
   "outputs": [],
   "source": [
    "conn = engine.connect()"
   ]
  },
  {
   "cell_type": "code",
   "execution_count": 27,
   "metadata": {},
   "outputs": [
    {
     "data": {
      "text/html": [
       "<div>\n",
       "<style scoped>\n",
       "    .dataframe tbody tr th:only-of-type {\n",
       "        vertical-align: middle;\n",
       "    }\n",
       "\n",
       "    .dataframe tbody tr th {\n",
       "        vertical-align: top;\n",
       "    }\n",
       "\n",
       "    .dataframe thead th {\n",
       "        text-align: right;\n",
       "    }\n",
       "</style>\n",
       "<table border=\"1\" class=\"dataframe\">\n",
       "  <thead>\n",
       "    <tr style=\"text-align: right;\">\n",
       "      <th></th>\n",
       "      <th>id</th>\n",
       "      <th>station</th>\n",
       "      <th>date</th>\n",
       "      <th>prcp</th>\n",
       "      <th>tobs</th>\n",
       "    </tr>\n",
       "  </thead>\n",
       "  <tbody>\n",
       "    <tr>\n",
       "      <td>0</td>\n",
       "      <td>1</td>\n",
       "      <td>USC00519397</td>\n",
       "      <td>2010-01-01</td>\n",
       "      <td>0.08</td>\n",
       "      <td>65.0</td>\n",
       "    </tr>\n",
       "    <tr>\n",
       "      <td>1</td>\n",
       "      <td>2</td>\n",
       "      <td>USC00519397</td>\n",
       "      <td>2010-01-02</td>\n",
       "      <td>0.00</td>\n",
       "      <td>63.0</td>\n",
       "    </tr>\n",
       "    <tr>\n",
       "      <td>2</td>\n",
       "      <td>3</td>\n",
       "      <td>USC00519397</td>\n",
       "      <td>2010-01-03</td>\n",
       "      <td>0.00</td>\n",
       "      <td>74.0</td>\n",
       "    </tr>\n",
       "    <tr>\n",
       "      <td>3</td>\n",
       "      <td>4</td>\n",
       "      <td>USC00519397</td>\n",
       "      <td>2010-01-04</td>\n",
       "      <td>0.00</td>\n",
       "      <td>76.0</td>\n",
       "    </tr>\n",
       "    <tr>\n",
       "      <td>4</td>\n",
       "      <td>5</td>\n",
       "      <td>USC00519397</td>\n",
       "      <td>2010-01-06</td>\n",
       "      <td>NaN</td>\n",
       "      <td>73.0</td>\n",
       "    </tr>\n",
       "  </tbody>\n",
       "</table>\n",
       "</div>"
      ],
      "text/plain": [
       "   id      station        date  prcp  tobs\n",
       "0   1  USC00519397  2010-01-01  0.08  65.0\n",
       "1   2  USC00519397  2010-01-02  0.00  63.0\n",
       "2   3  USC00519397  2010-01-03  0.00  74.0\n",
       "3   4  USC00519397  2010-01-04  0.00  76.0\n",
       "4   5  USC00519397  2010-01-06   NaN  73.0"
      ]
     },
     "execution_count": 27,
     "metadata": {},
     "output_type": "execute_result"
    }
   ],
   "source": [
    "m = pd.read_sql(\"SELECT * FROM measurement\", conn)\n",
    "m.head()"
   ]
  },
  {
   "cell_type": "code",
   "execution_count": 28,
   "metadata": {},
   "outputs": [
    {
     "data": {
      "text/html": [
       "<div>\n",
       "<style scoped>\n",
       "    .dataframe tbody tr th:only-of-type {\n",
       "        vertical-align: middle;\n",
       "    }\n",
       "\n",
       "    .dataframe tbody tr th {\n",
       "        vertical-align: top;\n",
       "    }\n",
       "\n",
       "    .dataframe thead th {\n",
       "        text-align: right;\n",
       "    }\n",
       "</style>\n",
       "<table border=\"1\" class=\"dataframe\">\n",
       "  <thead>\n",
       "    <tr style=\"text-align: right;\">\n",
       "      <th></th>\n",
       "      <th>id</th>\n",
       "      <th>station</th>\n",
       "      <th>name</th>\n",
       "      <th>latitude</th>\n",
       "      <th>longitude</th>\n",
       "      <th>elevation</th>\n",
       "    </tr>\n",
       "  </thead>\n",
       "  <tbody>\n",
       "    <tr>\n",
       "      <td>0</td>\n",
       "      <td>1</td>\n",
       "      <td>USC00519397</td>\n",
       "      <td>WAIKIKI 717.2, HI US</td>\n",
       "      <td>21.2716</td>\n",
       "      <td>-157.8168</td>\n",
       "      <td>3.0</td>\n",
       "    </tr>\n",
       "    <tr>\n",
       "      <td>1</td>\n",
       "      <td>2</td>\n",
       "      <td>USC00513117</td>\n",
       "      <td>KANEOHE 838.1, HI US</td>\n",
       "      <td>21.4234</td>\n",
       "      <td>-157.8015</td>\n",
       "      <td>14.6</td>\n",
       "    </tr>\n",
       "    <tr>\n",
       "      <td>2</td>\n",
       "      <td>3</td>\n",
       "      <td>USC00514830</td>\n",
       "      <td>KUALOA RANCH HEADQUARTERS 886.9, HI US</td>\n",
       "      <td>21.5213</td>\n",
       "      <td>-157.8374</td>\n",
       "      <td>7.0</td>\n",
       "    </tr>\n",
       "    <tr>\n",
       "      <td>3</td>\n",
       "      <td>4</td>\n",
       "      <td>USC00517948</td>\n",
       "      <td>PEARL CITY, HI US</td>\n",
       "      <td>21.3934</td>\n",
       "      <td>-157.9751</td>\n",
       "      <td>11.9</td>\n",
       "    </tr>\n",
       "    <tr>\n",
       "      <td>4</td>\n",
       "      <td>5</td>\n",
       "      <td>USC00518838</td>\n",
       "      <td>UPPER WAHIAWA 874.3, HI US</td>\n",
       "      <td>21.4992</td>\n",
       "      <td>-158.0111</td>\n",
       "      <td>306.6</td>\n",
       "    </tr>\n",
       "  </tbody>\n",
       "</table>\n",
       "</div>"
      ],
      "text/plain": [
       "   id      station                                    name  latitude  \\\n",
       "0   1  USC00519397                    WAIKIKI 717.2, HI US   21.2716   \n",
       "1   2  USC00513117                    KANEOHE 838.1, HI US   21.4234   \n",
       "2   3  USC00514830  KUALOA RANCH HEADQUARTERS 886.9, HI US   21.5213   \n",
       "3   4  USC00517948                       PEARL CITY, HI US   21.3934   \n",
       "4   5  USC00518838              UPPER WAHIAWA 874.3, HI US   21.4992   \n",
       "\n",
       "   longitude  elevation  \n",
       "0  -157.8168        3.0  \n",
       "1  -157.8015       14.6  \n",
       "2  -157.8374        7.0  \n",
       "3  -157.9751       11.9  \n",
       "4  -158.0111      306.6  "
      ]
     },
     "execution_count": 28,
     "metadata": {},
     "output_type": "execute_result"
    }
   ],
   "source": [
    "p=pd.read_sql(\"SELECT * FROM station\", conn)\n",
    "p.head()"
   ]
  },
  {
   "cell_type": "code",
   "execution_count": 29,
   "metadata": {},
   "outputs": [],
   "source": [
    "# Merge the columns\n",
    "combined_data = pd.merge(m, p, on=\"station\", how=\"inner\")"
   ]
  },
  {
   "cell_type": "code",
   "execution_count": 59,
   "metadata": {},
   "outputs": [
    {
     "data": {
      "text/html": [
       "<div>\n",
       "<style scoped>\n",
       "    .dataframe tbody tr th:only-of-type {\n",
       "        vertical-align: middle;\n",
       "    }\n",
       "\n",
       "    .dataframe tbody tr th {\n",
       "        vertical-align: top;\n",
       "    }\n",
       "\n",
       "    .dataframe thead th {\n",
       "        text-align: right;\n",
       "    }\n",
       "</style>\n",
       "<table border=\"1\" class=\"dataframe\">\n",
       "  <thead>\n",
       "    <tr style=\"text-align: right;\">\n",
       "      <th></th>\n",
       "      <th>id_x</th>\n",
       "      <th>station</th>\n",
       "      <th>date</th>\n",
       "      <th>prcp</th>\n",
       "      <th>tobs</th>\n",
       "      <th>id_y</th>\n",
       "      <th>name</th>\n",
       "      <th>latitude</th>\n",
       "      <th>longitude</th>\n",
       "      <th>elevation</th>\n",
       "    </tr>\n",
       "  </thead>\n",
       "  <tbody>\n",
       "    <tr>\n",
       "      <td>0</td>\n",
       "      <td>1</td>\n",
       "      <td>USC00519397</td>\n",
       "      <td>2010-01-01</td>\n",
       "      <td>0.08</td>\n",
       "      <td>65.0</td>\n",
       "      <td>1</td>\n",
       "      <td>WAIKIKI 717.2, HI US</td>\n",
       "      <td>21.2716</td>\n",
       "      <td>-157.8168</td>\n",
       "      <td>3.0</td>\n",
       "    </tr>\n",
       "    <tr>\n",
       "      <td>1</td>\n",
       "      <td>2</td>\n",
       "      <td>USC00519397</td>\n",
       "      <td>2010-01-02</td>\n",
       "      <td>0.00</td>\n",
       "      <td>63.0</td>\n",
       "      <td>1</td>\n",
       "      <td>WAIKIKI 717.2, HI US</td>\n",
       "      <td>21.2716</td>\n",
       "      <td>-157.8168</td>\n",
       "      <td>3.0</td>\n",
       "    </tr>\n",
       "    <tr>\n",
       "      <td>2</td>\n",
       "      <td>3</td>\n",
       "      <td>USC00519397</td>\n",
       "      <td>2010-01-03</td>\n",
       "      <td>0.00</td>\n",
       "      <td>74.0</td>\n",
       "      <td>1</td>\n",
       "      <td>WAIKIKI 717.2, HI US</td>\n",
       "      <td>21.2716</td>\n",
       "      <td>-157.8168</td>\n",
       "      <td>3.0</td>\n",
       "    </tr>\n",
       "    <tr>\n",
       "      <td>3</td>\n",
       "      <td>4</td>\n",
       "      <td>USC00519397</td>\n",
       "      <td>2010-01-04</td>\n",
       "      <td>0.00</td>\n",
       "      <td>76.0</td>\n",
       "      <td>1</td>\n",
       "      <td>WAIKIKI 717.2, HI US</td>\n",
       "      <td>21.2716</td>\n",
       "      <td>-157.8168</td>\n",
       "      <td>3.0</td>\n",
       "    </tr>\n",
       "    <tr>\n",
       "      <td>4</td>\n",
       "      <td>5</td>\n",
       "      <td>USC00519397</td>\n",
       "      <td>2010-01-06</td>\n",
       "      <td>NaN</td>\n",
       "      <td>73.0</td>\n",
       "      <td>1</td>\n",
       "      <td>WAIKIKI 717.2, HI US</td>\n",
       "      <td>21.2716</td>\n",
       "      <td>-157.8168</td>\n",
       "      <td>3.0</td>\n",
       "    </tr>\n",
       "    <tr>\n",
       "      <td>...</td>\n",
       "      <td>...</td>\n",
       "      <td>...</td>\n",
       "      <td>...</td>\n",
       "      <td>...</td>\n",
       "      <td>...</td>\n",
       "      <td>...</td>\n",
       "      <td>...</td>\n",
       "      <td>...</td>\n",
       "      <td>...</td>\n",
       "      <td>...</td>\n",
       "    </tr>\n",
       "    <tr>\n",
       "      <td>19545</td>\n",
       "      <td>19546</td>\n",
       "      <td>USC00516128</td>\n",
       "      <td>2017-08-19</td>\n",
       "      <td>0.09</td>\n",
       "      <td>71.0</td>\n",
       "      <td>9</td>\n",
       "      <td>MANOA LYON ARBO 785.2, HI US</td>\n",
       "      <td>21.3331</td>\n",
       "      <td>-157.8025</td>\n",
       "      <td>152.4</td>\n",
       "    </tr>\n",
       "    <tr>\n",
       "      <td>19546</td>\n",
       "      <td>19547</td>\n",
       "      <td>USC00516128</td>\n",
       "      <td>2017-08-20</td>\n",
       "      <td>NaN</td>\n",
       "      <td>78.0</td>\n",
       "      <td>9</td>\n",
       "      <td>MANOA LYON ARBO 785.2, HI US</td>\n",
       "      <td>21.3331</td>\n",
       "      <td>-157.8025</td>\n",
       "      <td>152.4</td>\n",
       "    </tr>\n",
       "    <tr>\n",
       "      <td>19547</td>\n",
       "      <td>19548</td>\n",
       "      <td>USC00516128</td>\n",
       "      <td>2017-08-21</td>\n",
       "      <td>0.56</td>\n",
       "      <td>76.0</td>\n",
       "      <td>9</td>\n",
       "      <td>MANOA LYON ARBO 785.2, HI US</td>\n",
       "      <td>21.3331</td>\n",
       "      <td>-157.8025</td>\n",
       "      <td>152.4</td>\n",
       "    </tr>\n",
       "    <tr>\n",
       "      <td>19548</td>\n",
       "      <td>19549</td>\n",
       "      <td>USC00516128</td>\n",
       "      <td>2017-08-22</td>\n",
       "      <td>0.50</td>\n",
       "      <td>76.0</td>\n",
       "      <td>9</td>\n",
       "      <td>MANOA LYON ARBO 785.2, HI US</td>\n",
       "      <td>21.3331</td>\n",
       "      <td>-157.8025</td>\n",
       "      <td>152.4</td>\n",
       "    </tr>\n",
       "    <tr>\n",
       "      <td>19549</td>\n",
       "      <td>19550</td>\n",
       "      <td>USC00516128</td>\n",
       "      <td>2017-08-23</td>\n",
       "      <td>0.45</td>\n",
       "      <td>76.0</td>\n",
       "      <td>9</td>\n",
       "      <td>MANOA LYON ARBO 785.2, HI US</td>\n",
       "      <td>21.3331</td>\n",
       "      <td>-157.8025</td>\n",
       "      <td>152.4</td>\n",
       "    </tr>\n",
       "  </tbody>\n",
       "</table>\n",
       "<p>19550 rows × 10 columns</p>\n",
       "</div>"
      ],
      "text/plain": [
       "        id_x      station        date  prcp  tobs  id_y  \\\n",
       "0          1  USC00519397  2010-01-01  0.08  65.0     1   \n",
       "1          2  USC00519397  2010-01-02  0.00  63.0     1   \n",
       "2          3  USC00519397  2010-01-03  0.00  74.0     1   \n",
       "3          4  USC00519397  2010-01-04  0.00  76.0     1   \n",
       "4          5  USC00519397  2010-01-06   NaN  73.0     1   \n",
       "...      ...          ...         ...   ...   ...   ...   \n",
       "19545  19546  USC00516128  2017-08-19  0.09  71.0     9   \n",
       "19546  19547  USC00516128  2017-08-20   NaN  78.0     9   \n",
       "19547  19548  USC00516128  2017-08-21  0.56  76.0     9   \n",
       "19548  19549  USC00516128  2017-08-22  0.50  76.0     9   \n",
       "19549  19550  USC00516128  2017-08-23  0.45  76.0     9   \n",
       "\n",
       "                               name  latitude  longitude  elevation  \n",
       "0              WAIKIKI 717.2, HI US   21.2716  -157.8168        3.0  \n",
       "1              WAIKIKI 717.2, HI US   21.2716  -157.8168        3.0  \n",
       "2              WAIKIKI 717.2, HI US   21.2716  -157.8168        3.0  \n",
       "3              WAIKIKI 717.2, HI US   21.2716  -157.8168        3.0  \n",
       "4              WAIKIKI 717.2, HI US   21.2716  -157.8168        3.0  \n",
       "...                             ...       ...        ...        ...  \n",
       "19545  MANOA LYON ARBO 785.2, HI US   21.3331  -157.8025      152.4  \n",
       "19546  MANOA LYON ARBO 785.2, HI US   21.3331  -157.8025      152.4  \n",
       "19547  MANOA LYON ARBO 785.2, HI US   21.3331  -157.8025      152.4  \n",
       "19548  MANOA LYON ARBO 785.2, HI US   21.3331  -157.8025      152.4  \n",
       "19549  MANOA LYON ARBO 785.2, HI US   21.3331  -157.8025      152.4  \n",
       "\n",
       "[19550 rows x 10 columns]"
      ]
     },
     "execution_count": 59,
     "metadata": {},
     "output_type": "execute_result"
    }
   ],
   "source": [
    "combined_data\n"
   ]
  },
  {
   "cell_type": "code",
   "execution_count": 60,
   "metadata": {},
   "outputs": [],
   "source": [
    "sorted_combined=combined_data.sort_values(by='tobs', ascending=False)"
   ]
  },
  {
   "cell_type": "code",
   "execution_count": 61,
   "metadata": {},
   "outputs": [],
   "source": [
    "sort_by_desc=sorted_combined[['station','tobs']]\n",
    "sum_by_station=sort_by_desc.groupby(['station']).sum()"
   ]
  },
  {
   "cell_type": "code",
   "execution_count": 62,
   "metadata": {},
   "outputs": [
    {
     "data": {
      "text/html": [
       "<div>\n",
       "<style scoped>\n",
       "    .dataframe tbody tr th:only-of-type {\n",
       "        vertical-align: middle;\n",
       "    }\n",
       "\n",
       "    .dataframe tbody tr th {\n",
       "        vertical-align: top;\n",
       "    }\n",
       "\n",
       "    .dataframe thead th {\n",
       "        text-align: right;\n",
       "    }\n",
       "</style>\n",
       "<table border=\"1\" class=\"dataframe\">\n",
       "  <thead>\n",
       "    <tr style=\"text-align: right;\">\n",
       "      <th></th>\n",
       "      <th>station</th>\n",
       "      <th>tobs</th>\n",
       "    </tr>\n",
       "  </thead>\n",
       "  <tbody>\n",
       "    <tr>\n",
       "      <td>0</td>\n",
       "      <td>USC00519397</td>\n",
       "      <td>203083.0</td>\n",
       "    </tr>\n",
       "    <tr>\n",
       "      <td>1</td>\n",
       "      <td>USC00519523</td>\n",
       "      <td>198957.0</td>\n",
       "    </tr>\n",
       "    <tr>\n",
       "      <td>2</td>\n",
       "      <td>USC00519281</td>\n",
       "      <td>198652.0</td>\n",
       "    </tr>\n",
       "    <tr>\n",
       "      <td>3</td>\n",
       "      <td>USC00513117</td>\n",
       "      <td>196915.0</td>\n",
       "    </tr>\n",
       "    <tr>\n",
       "      <td>4</td>\n",
       "      <td>USC00516128</td>\n",
       "      <td>185230.0</td>\n",
       "    </tr>\n",
       "    <tr>\n",
       "      <td>5</td>\n",
       "      <td>USC00514830</td>\n",
       "      <td>164871.0</td>\n",
       "    </tr>\n",
       "    <tr>\n",
       "      <td>6</td>\n",
       "      <td>USC00511918</td>\n",
       "      <td>141728.0</td>\n",
       "    </tr>\n",
       "    <tr>\n",
       "      <td>7</td>\n",
       "      <td>USC00517948</td>\n",
       "      <td>102467.0</td>\n",
       "    </tr>\n",
       "    <tr>\n",
       "      <td>8</td>\n",
       "      <td>USC00518838</td>\n",
       "      <td>37162.0</td>\n",
       "    </tr>\n",
       "  </tbody>\n",
       "</table>\n",
       "</div>"
      ],
      "text/plain": [
       "       station      tobs\n",
       "0  USC00519397  203083.0\n",
       "1  USC00519523  198957.0\n",
       "2  USC00519281  198652.0\n",
       "3  USC00513117  196915.0\n",
       "4  USC00516128  185230.0\n",
       "5  USC00514830  164871.0\n",
       "6  USC00511918  141728.0\n",
       "7  USC00517948  102467.0\n",
       "8  USC00518838   37162.0"
      ]
     },
     "execution_count": 62,
     "metadata": {},
     "output_type": "execute_result"
    }
   ],
   "source": [
    "#list the stations and observation counts in descending order\n",
    "sorted_combined=sum_by_station.sort_values(by='tobs',ascending=False)\n",
    "sorted_combined.reset_index()"
   ]
  },
  {
   "cell_type": "code",
   "execution_count": 34,
   "metadata": {},
   "outputs": [
    {
     "data": {
      "text/plain": [
       "tobs    203083.0\n",
       "Name: USC00519397, dtype: float64"
      ]
     },
     "execution_count": 34,
     "metadata": {},
     "output_type": "execute_result"
    }
   ],
   "source": [
    "#station with the highest number of observations\n",
    "sorted_combined.iloc[0]"
   ]
  },
  {
   "cell_type": "code",
   "execution_count": 25,
   "metadata": {},
   "outputs": [],
   "source": [
    "#retrieve the last 12 months of temperature observation data\n",
    "data=session.query(Meas.tobs,Meas.date,Meas.station).\\\n",
    "    filter(Meas.date >year_to_date).all()"
   ]
  },
  {
   "cell_type": "code",
   "execution_count": 26,
   "metadata": {},
   "outputs": [
    {
     "name": "stdout",
     "output_type": "stream",
     "text": [
      "      TOBS        Date      Station\n",
      "0     79.0  2016-08-24  USC00519397\n",
      "1     80.0  2016-08-25  USC00519397\n",
      "2     79.0  2016-08-26  USC00519397\n",
      "3     77.0  2016-08-27  USC00519397\n",
      "4     78.0  2016-08-28  USC00519397\n",
      "...    ...         ...          ...\n",
      "2218  71.0  2017-08-19  USC00516128\n",
      "2219  78.0  2017-08-20  USC00516128\n",
      "2220  76.0  2017-08-21  USC00516128\n",
      "2221  76.0  2017-08-22  USC00516128\n",
      "2222  76.0  2017-08-23  USC00516128\n",
      "\n",
      "[2223 rows x 3 columns]\n"
     ]
    }
   ],
   "source": [
    "df_3 = pd.DataFrame(data, columns =['TOBS','Date','Station'])\n",
    "print(df_3)"
   ]
  },
  {
   "cell_type": "code",
   "execution_count": 27,
   "metadata": {},
   "outputs": [
    {
     "data": {
      "text/plain": [
       "TOBS                87\n",
       "Date        2017-07-03\n",
       "Station    USC00517948\n",
       "Name: 1171, dtype: object"
      ]
     },
     "execution_count": 27,
     "metadata": {},
     "output_type": "execute_result"
    }
   ],
   "source": [
    "sorted_data=df_3.sort_values(by='TOBS',ascending=False)\n",
    "sorted_data.iloc[0]"
   ]
  },
  {
   "cell_type": "code",
   "execution_count": 47,
   "metadata": {},
   "outputs": [
    {
     "data": {
      "text/plain": [
       "(array([ 10.,  17.,  66.,  85., 258., 246., 290., 591., 356., 283.,  18.,\n",
       "          3.]),\n",
       " array([58.        , 60.41666667, 62.83333333, 65.25      , 67.66666667,\n",
       "        70.08333333, 72.5       , 74.91666667, 77.33333333, 79.75      ,\n",
       "        82.16666667, 84.58333333, 87.        ]),\n",
       " <a list of 12 Patch objects>)"
      ]
     },
     "execution_count": 47,
     "metadata": {},
     "output_type": "execute_result"
    },
    {
     "data": {
      "image/png": "[encoded data removed]",
      "text/plain": [
       "<Figure size 432x288 with 1 Axes>"
      ]
     },
     "metadata": {
      "needs_background": "light"
     },
     "output_type": "display_data"
    }
   ],
   "source": [
    "#plot the results to a histogram\n",
    "plt.hist(x=df_3['TOBS'], bins=12, color='#0504aa',\n",
    "                            alpha=0.7, rwidth=1, label='Frequency')\n"
   ]
  },
  {
   "cell_type": "code",
   "execution_count": 50,
   "metadata": {},
   "outputs": [],
   "source": [
    "start=dt.date(2012,1,1)\n",
    "   \n",
    "max_start_data=session.query(func.max(Meas.tobs)).filter(Meas.date>=start)\n",
    "avg_data=session.query(func.avg(Meas.tobs)).filter(Meas.date>=start)\n",
    "min_data=session.query(func.min(Meas.tobs)).filter(Meas.date>=start)\n"
   ]
  },
  {
   "cell_type": "code",
   "execution_count": null,
   "metadata": {},
   "outputs": [],
   "source": []
  },
  {
   "cell_type": "code",
   "execution_count": 51,
   "metadata": {},
   "outputs": [],
   "source": []
  },
  {
   "cell_type": "code",
   "execution_count": null,
   "metadata": {},
   "outputs": [],
   "source": []
  },
  {
   "cell_type": "code",
   "execution_count": null,
   "metadata": {},
   "outputs": [],
   "source": []
  },
  {
   "cell_type": "code",
   "execution_count": null,
   "metadata": {},
   "outputs": [],
   "source": []
  },
  {
   "cell_type": "code",
   "execution_count": null,
   "metadata": {},
   "outputs": [],
   "source": []
  }
 ],
 "metadata": {
  "kernelspec": {
   "display_name": "Python 3",
   "language": "python",
   "name": "python3"
  },
  "language_info": {
   "codemirror_mode": {
    "name": "ipython",
    "version": 3
   },
   "file_extension": ".py",
   "mimetype": "text/x-python",
   "name": "python",
   "nbconvert_exporter": "python",
   "pygments_lexer": "ipython3",
   "version": "3.8.3"
  }
 },
 "nbformat": 4,
 "nbformat_minor": 4
}
